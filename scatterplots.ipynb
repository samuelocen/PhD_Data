import numpy as np
import pylab
import pandas as pd
import seaborn as sb
from matplotlib import pyplot as plt

import matplotlib.ticker as ticker

from matplotlib import cm
from colorspacious import cspace_converter
from collections import OrderedDict

from matplotlib.patches import *
import matplotlib
#Rectangle

cmaps = OrderedDict()
#cmaps['Perceptually Uniform Sequential'] = [
            #'viridis', 'plasma', 'inferno', 'magma', 'cividis']

cmaps['Sequential'] = [
            'Greys', 'Purples', 'Blues', 'Greens', 'Oranges', 'Reds',
            'YlOrBr', 'YlOrRd', 'OrRd', 'PuRd', 'RdPu', 'BuPu',
            'GnBu', 'PuBu', 'YlGnBu', 'PuBuGn', 'BuGn', 'YlGn']
            data1 = pd.read_csv('edc.csv')
data1.head()
#data1.Income
#data2 = pd.read_csv('edc.csv')
#delim_whitespace=True
#names=('ID', 'Gender', 'Age', 'SES', 'PEL','Time','CR','Family_Size', 'Income')
data1 = data1.apply(pd.to_numeric, errors='coerce')
#data1= data1.drop('Gender',axis=1)
#data1 = data1.dropna(axis='columns')
#data1 = data1.Gender.drop()

# definitions for the axes
left, width = -0.1, 0.85
bottom, height = 0.1, 0.85
spacing = 0.23


rect_scatter = [left+spacing, bottom, width, height]
rect_histy = [left, bottom, 0.1, height]

# start with a rectangular Figure
plt.figure(figsize=(11.5, 8.))

ax_scatter = plt.axes(rect_scatter)
ax_scatter.tick_params(direction='in', top=True, right=True)
#the scatter plot:
figfig=ax_scatter.scatter(data1['Family_Size'], (data1['Income']/1000000),c=data1['CR'])

im = ax_scatter.scatter(data1['Family_Size'], data1['Income']/1000000,c=data1['CR'], s=85, cmap=plt.cm.jet)

#Add a colorbar
cb = plt.colorbar(im, ax=ax_scatter)
cb.ax.tick_params(labelsize=25.)
cb.set_label( label = 'Completion Rates',size=25.)

#set the color limits - not necessary here, but good to know how.
im.set_clim(0, 1)

#im.set_label("Z/H", label )
#lim = np.ceil(np.abs([data28['Psemi'], data28['Pmass']*0.00314558]).max() / binwidth) * binwidth
ax_scatter.set_xlim((1, 15))
ax_scatter.set_ylim((0.10000, 10.00000))
#ax_scatter.set_xlim(1, 20 * np.pi);
#ax_scatter.yaxis.set_label_coords(150000, 5500000)
#ax_scatter.yaxis.labelpad=-11
#ax_scatter.grid(True)
#ax_scatter.set_xscale('log')
ax_scatter.set_yscale('log')

#ax_histx.set_xscale('log')
#ax_histy.set_yscale('log')

ax_scatter.set_xlabel('Family Size',size = 25)
ax_scatter.set_ylabel('Income (Million UgX.)',size = 25)
ax_scatter.yaxis.set_major_formatter(ticker.FuncFormatter(lambda y,pos: ('{{:.{:1d}f}}'.format(int(np.maximum(-np.log10(y),0)))).format(y)))
#ax_scatter.xaxis.set_major_formatter(ticker.FuncFormatter(lambda x,pos: ('{{:.{:1d}f}}'.format(int(np.maximum(-np.log10(x),0)))).format(x)))
 
#ax_scatter.legend(prop={'size':20}, loc = 'lower left')
#ax_scatter.text(.045, .25,'$M_{disc,0}=0.1M_{\odot}$, Isolated',size = 25)

ax_scatter.tick_params(labelsize=25)

#ax_scatter.text(.045, .13,'$K_{env} = 0.05 \, cm^{2}g^{-1}$',size = 20)

#ax_histy.legend(prop={'size':15})

plt.savefig('edcI.png')
plt.show()
